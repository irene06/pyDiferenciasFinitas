{
  "nbformat": 4,
  "nbformat_minor": 0,
  "metadata": {
    "colab": {
      "name": "Diferencias_Finitas_python.ipynb",
      "provenance": [],
      "authorship_tag": "ABX9TyOkD/3rkk+jP7wAG5cuzm1H",
      "include_colab_link": true
    },
    "kernelspec": {
      "name": "python3",
      "display_name": "Python 3"
    },
    "language_info": {
      "name": "python"
    }
  },
  "cells": [
    {
      "cell_type": "markdown",
      "metadata": {
        "id": "view-in-github",
        "colab_type": "text"
      },
      "source": [
        "<a href=\"https://colab.research.google.com/github/irene06/pyDiferenciasFinitas/blob/main/Diferencias_Finitas_python.ipynb\" target=\"_parent\"><img src=\"https://colab.research.google.com/assets/colab-badge.svg\" alt=\"Open In Colab\"/></a>"
      ]
    },
    {
      "cell_type": "code",
      "execution_count": null,
      "metadata": {
        "id": "_zSRX5uNeC7e"
      },
      "outputs": [],
      "source": [
        "#A partir de valor de U y F conocidos, encontrar valores U y F de fondo.\n"
      ]
    },
    {
      "cell_type": "code",
      "source": [
        "import numpy as np"
      ],
      "metadata": {
        "id": "R6Mk9L7he1hD"
      },
      "execution_count": 4,
      "outputs": []
    },
    {
      "cell_type": "code",
      "source": [
        "#tabla de diferencias finitas\n",
        "xi=np.array([0.10,0.2,0.3,0.4])\n",
        "fi=np.array([1.45,1.6,1.7,2.0])"
      ],
      "metadata": {
        "id": "WvmX3kGge582"
      },
      "execution_count": 5,
      "outputs": []
    },
    {
      "cell_type": "code",
      "source": [
        "n=len(xi)\n",
        "titulo = ['i','xi','fi']\n",
        "ki=np.arange(0,n,1)\n",
        "tabla =np.concatenate(([ki],[xi],[fi])\n",
        "                  ,axis=0)\n",
        "tabla =np.transpose(tabla)\n",
        "dfinita=np.zeros((n,n),dtype=float)\n",
        "    \n"
      ],
      "metadata": {
        "id": "NX7Bmg4Zj3vx"
      },
      "execution_count": 6,
      "outputs": []
    },
    {
      "cell_type": "code",
      "source": [
        "tabla=np.concatenate((tabla,dfinita)\n",
        "                            ,axis=1)"
      ],
      "metadata": {
        "id": "LxSgs_4qmc7V"
      },
      "execution_count": 7,
      "outputs": []
    },
    {
      "cell_type": "code",
      "source": [
        "#Calculo de la tabla,inicia en columna 3\n",
        "[n,m]=np.shape(tabla)\n",
        "j=3\n",
        "diagonal=n-1\n",
        "while(j<m):\n",
        "  titulo.append('df'+str(j-2))\n",
        "  i=0\n",
        "  while(i<diagonal):\n",
        "      tabla[i,j]=tabla[i+1,j-1]-tabla[i,j-1]\n",
        "      i=i+1\n",
        "  j=j+1\n",
        "  diagonal=diagonal-1\n"
      ],
      "metadata": {
        "id": "87p_6Dynmu0q"
      },
      "execution_count": 11,
      "outputs": []
    },
    {
      "cell_type": "code",
      "source": [
        "print(tabla)"
      ],
      "metadata": {
        "colab": {
          "base_uri": "https://localhost:8080/"
        },
        "id": "udEHvv1wnHTp",
        "outputId": "bd9f3ba7-7417-4637-d5e6-42f8f553f99a"
      },
      "execution_count": 12,
      "outputs": [
        {
          "output_type": "stream",
          "name": "stdout",
          "text": [
            "[[ 0.    0.1   1.45  0.15 -0.05  0.25  0.  ]\n",
            " [ 1.    0.2   1.6   0.1   0.2   0.    0.  ]\n",
            " [ 2.    0.3   1.7   0.3   0.    0.    0.  ]\n",
            " [ 3.    0.4   2.    0.    0.    0.    0.  ]]\n"
          ]
        }
      ]
    },
    {
      "cell_type": "code",
      "source": [
        "import matplotlib.pyplot as plt\n",
        "\n",
        "for i in range(0,n,1):\n",
        "    plt.axhline(fi[i],ls='--', color='pink')\n",
        "\n",
        "plt.plot(xi,fi,'o', label = 'Puntos')\n",
        "\n",
        "plt.legend()\n",
        "plt.xlabel('xi')\n",
        "plt.ylabel('fi')\n",
        "plt.title('Diferencias Finitas')\n",
        "plt.show()"
      ],
      "metadata": {
        "id": "9OF-uTx1vIFI",
        "outputId": "21861e94-e4f5-40c9-ff2d-ba3663d42f49",
        "colab": {
          "base_uri": "https://localhost:8080/",
          "height": 295
        }
      },
      "execution_count": 13,
      "outputs": [
        {
          "output_type": "display_data",
          "data": {
            "text/plain": [
              "<Figure size 432x288 with 1 Axes>"
            ],
            "image/png": "[encoded data removed]"
          },
          "metadata": {
            "needs_background": "light"
          }
        }
      ]
    }
  ]
}